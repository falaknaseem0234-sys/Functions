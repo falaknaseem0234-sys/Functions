{
  "nbformat": 4,
  "nbformat_minor": 0,
  "metadata": {
    "colab": {
      "provenance": []
    },
    "kernelspec": {
      "name": "python3",
      "display_name": "Python 3"
    },
    "language_info": {
      "name": "python"
    }
  },
  "cells": [
    {
      "cell_type": "markdown",
      "source": [
        "1.What is the difference between a function and a method in Python?\n",
        "     -Function: A block of code that performs a specific task. It is defined using def and is independent.\n",
        "\n",
        "Method: A function that belongs to an object (usually a class).\n",
        "def greet():  # function\n",
        "    print(\"Hello\")\n",
        "\n",
        "name = \"Alice\"\n",
        "print(name.upper())  # upper() is a method of string\n",
        "\n",
        "\n",
        "2.Explain the concept of function arguments and parameters in Python.\n",
        "      -Parameters: Variables listed inside the parentheses in the function definition.\n",
        "\n",
        "Arguments: Values passed to the function when it is called.\n",
        "\n",
        "Example:def add(a, b):  # a and b are parameters\n",
        "    return a + b\n",
        "\n",
        "result = add(3, 5)  # 3 and 5 are arguments\n",
        "\n",
        "3.What are the different ways to define and call a function in Python?\n",
        "     -Defining:\n",
        "\n",
        "Using def keyword.\n",
        "\n",
        "Using lambda for anonymous functions.\n",
        "\n",
        "Calling:\n",
        "\n",
        "Directly by function name with parentheses.\n",
        "\n",
        "Using function references.\n",
        "\n",
        "Example:def square(x):\n",
        "    return x * x\n",
        "\n",
        "print(square(4))  # Direct call\n",
        "\n",
        "sq = square\n",
        "print(sq(5))  # Calling via reference\n",
        "\n",
        "# Lambda function\n",
        "double = lambda x: x * 2\n",
        "print(double(3))\n",
        "\n",
        "4.What is the purpose of the return statement in a Python function?\n",
        "     -It ends the function execution and sends a value back to the caller.\n",
        "\n",
        "Example:def get_name():\n",
        "    return \"John\"\n",
        "\n",
        "name = get_name()\n",
        "print(name)\n",
        "\n",
        "5.What are iterators in Python and how do they differ from iterables?\n",
        "     -Iterable: An object that can return an iterator (like list, tuple, etc.).\n",
        "\n",
        "Iterator: An object with a __next__() method to fetch next item.\n",
        "\n",
        "Example:\n",
        "\n",
        "lst = [1, 2, 3]  # Iterable\n",
        "it = iter(lst)   # Iterator\n",
        "\n",
        "print(next(it))  # 1\n",
        "\n",
        "6.. Explain the concept of generators in Python and how they are defined.\n",
        "\n",
        "    -A generator is a function that yields values one at a time using yield.\n",
        "\n",
        "It doesn't store all values in memory.\n",
        "\n",
        "Example:\n",
        "\n",
        "def gen_nums():\n",
        "    yield 1\n",
        "    yield 2\n",
        "    yield 3\n",
        "\n",
        "g = gen_nums()\n",
        "print(next(g))  # 1  \n",
        "\n",
        "7.What are the advantages of using generators over regular functions?\n",
        "      -Generators yield one value at a time using yield, making them memory-efficient for large data.\n",
        "Example:\n",
        "\n",
        "def gen(): yield from range(1000000)  # Doesn't store all values in memory\n",
        "\n",
        "8.What is a lambda function in Python and when is it typically used?\n",
        "     -A lambda function is an anonymous, one-line function.\n",
        "\n",
        "Used for short, simple operations, often with functions like map(), filter().\n",
        "\n",
        "Example:\n",
        "\n",
        "square = lambda x: x * x\n",
        "print(square(4))\n",
        "\n",
        "9. Explain the purpose and usage of the map() function in Python.\n",
        "\n",
        "Applies a function to all items in an iterable and returns a map object.\n",
        "\n",
        "Example:\n",
        "\n",
        "nums = [1, 2, 3]\n",
        "doubled = list(map(lambda x: x * 2, nums))\n",
        "print(doubled)  # [2, 4, 6]\n",
        "\n",
        "10.What is the difference between map(), reduce(), and filter() functions in Python?\n",
        "Function\tPurpose\tReturns\n",
        "map()\tApplies a function to each item\tTransformed list\n",
        "filter()\tFilters items based on a condition\tFiltered list\n",
        "reduce()\tReduces a sequence to a single value\tSingle value\n",
        "\n",
        "Example:\n",
        "\n",
        "from functools import reduce\n",
        "\n",
        "nums = [1, 2, 3, 4]\n",
        "print(list(map(lambda x: x*2, nums)))  # [2, 4, 6, 8]\n",
        "print(list(filter(lambda x: x%2==0, nums)))  # [2, 4]\n",
        "print(reduce(lambda a, b: a + b, nums))  # 10\n",
        "\n",
        "11.Using pen & paper, write the internal mechanism for sum operation using reduce() function.\n",
        "\n",
        "Given list: [47, 11, 42, 13]\n",
        "\n",
        "Reduce with: lambda a, b: a + b\n",
        "\n",
        "Steps:\n",
        "\n",
        "Step 1: 47 + 11 = 58\n",
        "Step 2: 58 + 42 = 100\n",
        "Step 3: 100 + 13 = 113\n",
        "\n",
        "\n",
        "Final Result: 113\n"
      ],
      "metadata": {
        "id": "shd4rQMtj1Z_"
      }
    },
    {
      "cell_type": "markdown",
      "source": [
        "1.Write a Python function that takes a list of numbers as input and returns the sum of all even numbers in the list."
      ],
      "metadata": {
        "id": "zOiXN93vnY13"
      }
    },
    {
      "cell_type": "code",
      "source": [
        "def sum_even_numbers(numbers):\n",
        "    return sum(num for num in numbers if num % 2 == 0)\n",
        "\n",
        "# Take input from user\n",
        "user_input = input(\"Enter a list of numbers separated by spaces: \")\n",
        "# Convert input string to list of integers\n",
        "number_list = list(map(int, user_input.split()))\n",
        "\n",
        "# Call the function\n",
        "result = sum_even_numbers(number_list)\n",
        "print(\"Sum of even numbers:\", result)"
      ],
      "metadata": {
        "colab": {
          "base_uri": "https://localhost:8080/"
        },
        "id": "4qfWooIznBQK",
        "outputId": "957f6ff1-15d8-4b99-8f90-145277216f6b"
      },
      "execution_count": 4,
      "outputs": [
        {
          "output_type": "stream",
          "name": "stdout",
          "text": [
            "Enter a list of numbers separated by spaces: 10 15 22 7 8\n",
            "Sum of even numbers: 40\n"
          ]
        }
      ]
    },
    {
      "cell_type": "markdown",
      "source": [
        "2.Create a Python function that accepts a string and returns the reverse of that string."
      ],
      "metadata": {
        "id": "BblQiK_DoIql"
      }
    },
    {
      "cell_type": "code",
      "execution_count": 7,
      "metadata": {
        "colab": {
          "base_uri": "https://localhost:8080/"
        },
        "id": "7Ni-wPD_juiJ",
        "outputId": "2dbff5b8-b71f-4f0d-fb7c-2d6506bc91be"
      },
      "outputs": [
        {
          "output_type": "stream",
          "name": "stdout",
          "text": [
            "Enter a string: falak\n",
            "Reversed string: kalaf\n"
          ]
        }
      ],
      "source": [
        "def reverse_string(s):\n",
        "    return s[::-1]\n",
        "\n",
        "# Taking input from user\n",
        "user_input = input(\"Enter a string: \")\n",
        "\n",
        "# Call the function and print the result\n",
        "reversed_str = reverse_string(user_input)\n",
        "print(\"Reversed string:\", reversed_str)"
      ]
    },
    {
      "cell_type": "markdown",
      "source": [
        "3.Implement a Python function that takes a list of integers and returns a new list containing the squares of each number."
      ],
      "metadata": {
        "id": "FsgpwXx9pN0A"
      }
    },
    {
      "cell_type": "code",
      "source": [
        "def square_list(numbers):\n",
        "    return [num ** 2 for num in numbers]\n",
        "\n",
        "# Taking input from the user\n",
        "user_input = input(\"Enter numbers separated by spaces: \")\n",
        "number_list = list(map(int, user_input.split()))\n",
        "\n",
        "# Calling the function\n",
        "squared_numbers = square_list(number_list)\n",
        "\n",
        "# Output the result\n",
        "print(\"Squared numbers:\", squared_numbers)"
      ],
      "metadata": {
        "colab": {
          "base_uri": "https://localhost:8080/"
        },
        "id": "ApRmGCEXpa5j",
        "outputId": "a1306121-85f2-48bf-d1e0-618e4673e4ea"
      },
      "execution_count": 8,
      "outputs": [
        {
          "output_type": "stream",
          "name": "stdout",
          "text": [
            "Enter numbers separated by spaces: 10 76 78 \n",
            "Squared numbers: [100, 5776, 6084]\n"
          ]
        }
      ]
    },
    {
      "cell_type": "markdown",
      "source": [
        "4.Write a Python function that checks if a given number is prime or not from 1 to 200."
      ],
      "metadata": {
        "id": "8eKkjY69pqL0"
      }
    },
    {
      "cell_type": "code",
      "source": [
        "def is_prime(n):\n",
        "    if n < 2: return False\n",
        "    for i in range(2, int(n**0.5)+1):\n",
        "        if n % i == 0:\n",
        "            return False\n",
        "    return True\n",
        "\n",
        "# Check from 1 to 200\n",
        "primes = [i for i in range(1, 201) if is_prime(i)]\n",
        "print(primes)"
      ],
      "metadata": {
        "colab": {
          "base_uri": "https://localhost:8080/"
        },
        "id": "JX9tKBKqp10h",
        "outputId": "13c5b0ff-0d73-4b12-faee-efabd0c5b199"
      },
      "execution_count": 9,
      "outputs": [
        {
          "output_type": "stream",
          "name": "stdout",
          "text": [
            "[2, 3, 5, 7, 11, 13, 17, 19, 23, 29, 31, 37, 41, 43, 47, 53, 59, 61, 67, 71, 73, 79, 83, 89, 97, 101, 103, 107, 109, 113, 127, 131, 137, 139, 149, 151, 157, 163, 167, 173, 179, 181, 191, 193, 197, 199]\n"
          ]
        }
      ]
    },
    {
      "cell_type": "markdown",
      "source": [
        "5.Create an iterator class in Python that generates the Fibonacci sequence up to a specified number of terms."
      ],
      "metadata": {
        "id": "GmT3OmyRp8KI"
      }
    },
    {
      "cell_type": "code",
      "source": [
        "class FibonacciIterator:\n",
        "    def __init__(self, limit):\n",
        "        self.a, self.b = 0, 1\n",
        "        self.count = 0\n",
        "        self.limit = limit\n",
        "\n",
        "    def __iter__(self):\n",
        "        return self\n",
        "\n",
        "    def __next__(self):\n",
        "        if self.count >= self.limit:\n",
        "            raise StopIteration\n",
        "        self.a, self.b = self.b, self.a + self.b\n",
        "        self.count += 1\n",
        "        return self.a\n",
        "\n",
        "# Example:\n",
        "for num in FibonacciIterator(10):\n",
        "    print(num, end=' ')"
      ],
      "metadata": {
        "colab": {
          "base_uri": "https://localhost:8080/"
        },
        "id": "1HuKOsijqDm7",
        "outputId": "5afa5288-0187-4c27-d391-5ec9f5b32c34"
      },
      "execution_count": 10,
      "outputs": [
        {
          "output_type": "stream",
          "name": "stdout",
          "text": [
            "1 1 2 3 5 8 13 21 34 55 "
          ]
        }
      ]
    },
    {
      "cell_type": "markdown",
      "source": [
        "6.Write a generator function in Python that yields the powers of 2 up to a given exponent."
      ],
      "metadata": {
        "id": "oHqe5KFfqKCS"
      }
    },
    {
      "cell_type": "code",
      "source": [
        "def powers_of_two(n):\n",
        "    for i in range(n + 1):\n",
        "        yield 2 ** i\n",
        "\n",
        "# Example:\n",
        "for power in powers_of_two(5):\n",
        "    print(power)"
      ],
      "metadata": {
        "colab": {
          "base_uri": "https://localhost:8080/"
        },
        "id": "c4_5Br1DqP1f",
        "outputId": "4fe44395-965b-4850-c3e9-f50d8642b3c8"
      },
      "execution_count": 11,
      "outputs": [
        {
          "output_type": "stream",
          "name": "stdout",
          "text": [
            "1\n",
            "2\n",
            "4\n",
            "8\n",
            "16\n",
            "32\n"
          ]
        }
      ]
    },
    {
      "cell_type": "markdown",
      "source": [
        "7.Implement a generator function that reads a file line by line and yields each line as a string."
      ],
      "metadata": {
        "id": "k2zhMfSrqgZp"
      }
    },
    {
      "cell_type": "code",
      "source": [
        "def read_file_lines(filename):\n",
        "    with open(filename, 'r') as file:\n",
        "        for line in file:\n",
        "            yield line.strip()\n",
        "\n",
        "# Take file name as input from user\n",
        "file_name = input(\"Enter the file name (with extension, e.g., data.txt): \")\n",
        "\n",
        "try:\n",
        "    for line in read_file_lines(file_name):\n",
        "        print(line)\n",
        "except FileNotFoundError:\n",
        "    print(\"File not found. Please check the file name and try again.\")"
      ],
      "metadata": {
        "colab": {
          "base_uri": "https://localhost:8080/"
        },
        "id": "YYI288WTq2f4",
        "outputId": "44d533a9-7e88-4b31-ea56-62b1c8f14687"
      },
      "execution_count": 15,
      "outputs": [
        {
          "output_type": "stream",
          "name": "stdout",
          "text": [
            "Enter the file name (with extension, e.g., data.txt): Basic python.ipynb\n",
            "File not found. Please check the file name and try again.\n"
          ]
        }
      ]
    },
    {
      "cell_type": "markdown",
      "source": [
        "8.. Use a lambda function in Python to sort a list of tuples based on the second element of each tuple."
      ],
      "metadata": {
        "id": "FeZCmqXxrPBs"
      }
    },
    {
      "cell_type": "code",
      "source": [
        "tuples = [(1, 5), (3, 2), (4, 8), (2, 1)]\n",
        "sorted_tuples = sorted(tuples, key=lambda x: x[1])\n",
        "print(sorted_tuples)\n"
      ],
      "metadata": {
        "colab": {
          "base_uri": "https://localhost:8080/"
        },
        "id": "gbF9TgEmrVSs",
        "outputId": "00640a77-a862-4a2a-9077-cc43cada2670"
      },
      "execution_count": 16,
      "outputs": [
        {
          "output_type": "stream",
          "name": "stdout",
          "text": [
            "[(2, 1), (3, 2), (1, 5), (4, 8)]\n"
          ]
        }
      ]
    },
    {
      "cell_type": "markdown",
      "source": [
        "9.Write a Python program that uses map() to convert a list of temperatures from Celsius to Fahrenheit."
      ],
      "metadata": {
        "id": "t6kJtU0urcVD"
      }
    },
    {
      "cell_type": "code",
      "source": [
        "celsius = [0, 20, 37, 100]\n",
        "fahrenheit = list(map(lambda c: (c * 9/5) + 32, celsius))\n",
        "print(fahrenheit)"
      ],
      "metadata": {
        "colab": {
          "base_uri": "https://localhost:8080/"
        },
        "id": "LmYnp8Anrgkm",
        "outputId": "d37f3614-a282-4a4f-f2c0-023e42248eb9"
      },
      "execution_count": 17,
      "outputs": [
        {
          "output_type": "stream",
          "name": "stdout",
          "text": [
            "[32.0, 68.0, 98.6, 212.0]\n"
          ]
        }
      ]
    },
    {
      "cell_type": "markdown",
      "source": [
        "10.Create a Python program that uses filter() to remove all the vowels from a given string."
      ],
      "metadata": {
        "id": "m5D7eBUIrmv8"
      }
    },
    {
      "cell_type": "code",
      "source": [
        "def remove_vowels(s):\n",
        "    return ''.join(filter(lambda c: c.lower() not in 'aeiou', s))\n",
        "\n",
        "print(remove_vowels(\"Hello World\"))"
      ],
      "metadata": {
        "colab": {
          "base_uri": "https://localhost:8080/"
        },
        "id": "ZkSQvZGnrrNE",
        "outputId": "833fc801-a7f9-4e7f-c3f8-988d569cf080"
      },
      "execution_count": 18,
      "outputs": [
        {
          "output_type": "stream",
          "name": "stdout",
          "text": [
            "Hll Wrld\n"
          ]
        }
      ]
    },
    {
      "cell_type": "markdown",
      "source": [
        "11. Imagine an accounting routine used in a book shop. It works on a list with sublists, which look like this:\n",
        " Write a Python program, which returns a list with 2-tuples. Each tuple consists of the order number and the\n",
        "product of the price per item and the quantity. The product should be increased by 10,- € if the value of the\n",
        "order is smaller than 100,00 €.\n",
        " Write a Python program using lambda and map"
      ],
      "metadata": {
        "id": "6LY2uCKOsiqu"
      }
    },
    {
      "cell_type": "code",
      "source": [
        "orders = [ [\"34587\", \"Learning Python, Mark Lutz\", 4, 40.95],\n",
        "           [\"98762\", \"Programming Python, Mark Lutz\", 5, 56.80],\n",
        "           [\"77226\", \"Head First Python, Paul Barry\", 3,32.95],\n",
        "           [\"88112\", \"Einführung in Python3, Bernd Klein\", \t3, 24.99]]\n",
        "result = list(map(lambda order: (order[0], order[2] * order[3]  if order[2] * order[3] >= 100 else order[2] * order[3] + 10), orders))\n",
        "print(result)\n",
        ""
      ],
      "metadata": {
        "colab": {
          "base_uri": "https://localhost:8080/"
        },
        "id": "GPRfsqgFtS49",
        "outputId": "b555500c-3fca-42db-f300-9d791034f8d3"
      },
      "execution_count": 19,
      "outputs": [
        {
          "output_type": "stream",
          "name": "stdout",
          "text": [
            "[('34587', 163.8), ('98762', 284.0), ('77226', 108.85000000000001), ('88112', 84.97)]\n"
          ]
        }
      ]
    },
    {
      "cell_type": "markdown",
      "source": [],
      "metadata": {
        "id": "z8C8vPxYq2Kg"
      }
    },
    {
      "cell_type": "markdown",
      "source": [],
      "metadata": {
        "id": "Z0YRSkVjshkq"
      }
    },
    {
      "cell_type": "markdown",
      "source": [
        "."
      ],
      "metadata": {
        "id": "6AY3gboOkVFj"
      }
    },
    {
      "cell_type": "markdown",
      "source": [],
      "metadata": {
        "id": "q94ug9rej0Zm"
      }
    }
  ]
}